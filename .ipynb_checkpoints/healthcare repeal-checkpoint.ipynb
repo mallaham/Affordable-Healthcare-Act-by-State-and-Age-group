{
 "cells": [
  {
   "cell_type": "code",
   "execution_count": 1,
   "metadata": {
    "collapsed": true
   },
   "outputs": [],
   "source": [
    "import pandas as pd\n",
    "import numpy as np\n",
    "import seaborn as sns\n",
    "import matplotlib.pyplot as plt\n",
    "import warnings\n",
    "warnings.filterwarnings('ignore')\n",
    "%matplotlib inline"
   ]
  },
  {
   "cell_type": "code",
   "execution_count": 2,
   "metadata": {
    "collapsed": true
   },
   "outputs": [],
   "source": [
    "data = pd.read_csv('./pre-exisiting-conditions-by-state-congressional-district-QueryResult.csv')"
   ]
  },
  {
   "cell_type": "code",
   "execution_count": 3,
   "metadata": {
    "collapsed": false
   },
   "outputs": [
    {
     "data": {
      "text/plain": [
       "Index(['State', 'Representative (District)',\n",
       "       'Age 0 to 17 with Pre-existing Condition',\n",
       "       'Age 18 to 24 with Pre-existing Condition',\n",
       "       'Age 25 to 34 with Pre-existing Condition',\n",
       "       'Age 35 to 44 with Pre-existing Condition',\n",
       "       'Age 45 to 54 with Pre-existing Condition',\n",
       "       'Age 55 to 64 with Pre-existing Condition',\n",
       "       'Nonelderly with Pre-existing Condition',\n",
       "       'Percent of Nonelderly with Pre-existing Condition'],\n",
       "      dtype='object')"
      ]
     },
     "execution_count": 3,
     "metadata": {},
     "output_type": "execute_result"
    }
   ],
   "source": [
    "data.columns"
   ]
  },
  {
   "cell_type": "code",
   "execution_count": 4,
   "metadata": {
    "collapsed": false
   },
   "outputs": [
    {
     "data": {
      "text/plain": [
       "State\n",
       "Alabama                                                22,300 \n",
       "Arizona        27,000   35,300   19,000   22,900   20,400  ...\n",
       "Arkansas                                               22,300 \n",
       "Florida        17,900   19,500   26,700   24,000   19,400  ...\n",
       "Georgia        28,600   27,800   26,900   25,600   34,300  ...\n",
       "Hawaii                                        24,100   25,400 \n",
       "Idaho                                         27,500   30,200 \n",
       "Illinois       27,100   25,100   24,700   27,100   22,000  ...\n",
       "Indiana        24,300   25,900   25,100   35,300   22,100  ...\n",
       "Iowa                        28,900   30,600   25,700   32,800 \n",
       "Kansas                      32,500   31,600   23,100   24,400 \n",
       "Kentucky       25,800   27,600   23,900   22,700   22,400  ...\n",
       "Louisiana      25,900   28,900   27,100   27,000   26,000  ...\n",
       "Maine                                         21,200   20,000 \n",
       "Maryland       25,200   26,600   24,900   23,400   30,600  ...\n",
       "National                                           11,494,000 \n",
       "Name: Age 18 to 24 with Pre-existing Condition, dtype: object"
      ]
     },
     "execution_count": 4,
     "metadata": {},
     "output_type": "execute_result"
    }
   ],
   "source": [
    "data.groupby('State')['Age 18 to 24 with Pre-existing Condition'].sum()"
   ]
  },
  {
   "cell_type": "markdown",
   "metadata": {},
   "source": [
    "# Which state(s) will be affected by the repeal of the Affordable Health Act"
   ]
  },
  {
   "cell_type": "markdown",
   "metadata": {},
   "source": [
    "## *Grouped by age group*"
   ]
  },
  {
   "cell_type": "code",
   "execution_count": 5,
   "metadata": {
    "collapsed": false
   },
   "outputs": [],
   "source": [
    "population = data[['Age 0 to 17 with Pre-existing Condition',\n",
    "       'Age 18 to 24 with Pre-existing Condition',\n",
    "       'Age 25 to 34 with Pre-existing Condition',\n",
    "       'Age 35 to 44 with Pre-existing Condition',\n",
    "       'Age 45 to 54 with Pre-existing Condition',\n",
    "       'Age 55 to 64 with Pre-existing Condition',\n",
    "       'Nonelderly with Pre-existing Condition']]\n",
    "for col in population:\n",
    "    population[col] = [ float(str(count).replace(',','')) for count in population[col]]"
   ]
  },
  {
   "cell_type": "code",
   "execution_count": 6,
   "metadata": {
    "collapsed": false,
    "scrolled": true
   },
   "outputs": [],
   "source": [
    "population['State'] = data['State']"
   ]
  },
  {
   "cell_type": "code",
   "execution_count": 7,
   "metadata": {
    "collapsed": false
   },
   "outputs": [],
   "source": [
    "populationByState = population.groupby('State').sum()"
   ]
  },
  {
   "cell_type": "code",
   "execution_count": 8,
   "metadata": {
    "collapsed": false
   },
   "outputs": [],
   "source": [
    "populationByState.reset_index(inplace=True)"
   ]
  },
  {
   "cell_type": "code",
   "execution_count": 9,
   "metadata": {
    "collapsed": false
   },
   "outputs": [],
   "source": [
    "populationByState.drop(populationByState.index[len(populationByState)-1],inplace=True)"
   ]
  },
  {
   "cell_type": "code",
   "execution_count": 10,
   "metadata": {
    "collapsed": false
   },
   "outputs": [
    {
     "data": {
      "text/html": [
       "<div>\n",
       "<table border=\"1\" class=\"dataframe\">\n",
       "  <thead>\n",
       "    <tr style=\"text-align: right;\">\n",
       "      <th></th>\n",
       "      <th>State</th>\n",
       "      <th>Age 0 to 17 with Pre-existing Condition</th>\n",
       "      <th>Age 18 to 24 with Pre-existing Condition</th>\n",
       "      <th>Age 25 to 34 with Pre-existing Condition</th>\n",
       "      <th>Age 35 to 44 with Pre-existing Condition</th>\n",
       "      <th>Age 45 to 54 with Pre-existing Condition</th>\n",
       "      <th>Age 55 to 64 with Pre-existing Condition</th>\n",
       "      <th>Nonelderly with Pre-existing Condition</th>\n",
       "    </tr>\n",
       "  </thead>\n",
       "  <tbody>\n",
       "    <tr>\n",
       "      <th>0</th>\n",
       "      <td>Alabama</td>\n",
       "      <td>39200.0</td>\n",
       "      <td>22300.0</td>\n",
       "      <td>40700.0</td>\n",
       "      <td>49700.0</td>\n",
       "      <td>63500.0</td>\n",
       "      <td>65100.0</td>\n",
       "      <td>280500.0</td>\n",
       "    </tr>\n",
       "    <tr>\n",
       "      <th>1</th>\n",
       "      <td>Arizona</td>\n",
       "      <td>342000.0</td>\n",
       "      <td>215400.0</td>\n",
       "      <td>370900.0</td>\n",
       "      <td>437200.0</td>\n",
       "      <td>549100.0</td>\n",
       "      <td>549000.0</td>\n",
       "      <td>2463500.0</td>\n",
       "    </tr>\n",
       "    <tr>\n",
       "      <th>2</th>\n",
       "      <td>Arkansas</td>\n",
       "      <td>39900.0</td>\n",
       "      <td>22300.0</td>\n",
       "      <td>39700.0</td>\n",
       "      <td>51100.0</td>\n",
       "      <td>63500.0</td>\n",
       "      <td>64600.0</td>\n",
       "      <td>281100.0</td>\n",
       "    </tr>\n",
       "    <tr>\n",
       "      <th>3</th>\n",
       "      <td>Florida</td>\n",
       "      <td>571900.0</td>\n",
       "      <td>349600.0</td>\n",
       "      <td>677500.0</td>\n",
       "      <td>840300.0</td>\n",
       "      <td>1133700.0</td>\n",
       "      <td>1043800.0</td>\n",
       "      <td>4616500.0</td>\n",
       "    </tr>\n",
       "    <tr>\n",
       "      <th>4</th>\n",
       "      <td>Georgia</td>\n",
       "      <td>596700.0</td>\n",
       "      <td>378700.0</td>\n",
       "      <td>629900.0</td>\n",
       "      <td>800800.0</td>\n",
       "      <td>1001400.0</td>\n",
       "      <td>908800.0</td>\n",
       "      <td>4316000.0</td>\n",
       "    </tr>\n",
       "    <tr>\n",
       "      <th>5</th>\n",
       "      <td>Hawaii</td>\n",
       "      <td>74600.0</td>\n",
       "      <td>49500.0</td>\n",
       "      <td>98300.0</td>\n",
       "      <td>103200.0</td>\n",
       "      <td>126600.0</td>\n",
       "      <td>141000.0</td>\n",
       "      <td>593300.0</td>\n",
       "    </tr>\n",
       "    <tr>\n",
       "      <th>6</th>\n",
       "      <td>Idaho</td>\n",
       "      <td>103300.0</td>\n",
       "      <td>57700.0</td>\n",
       "      <td>98800.0</td>\n",
       "      <td>117200.0</td>\n",
       "      <td>141600.0</td>\n",
       "      <td>154600.0</td>\n",
       "      <td>673200.0</td>\n",
       "    </tr>\n",
       "    <tr>\n",
       "      <th>7</th>\n",
       "      <td>Illinois</td>\n",
       "      <td>707300.0</td>\n",
       "      <td>454000.0</td>\n",
       "      <td>806300.0</td>\n",
       "      <td>967600.0</td>\n",
       "      <td>1263700.0</td>\n",
       "      <td>1272700.0</td>\n",
       "      <td>5471800.0</td>\n",
       "    </tr>\n",
       "    <tr>\n",
       "      <th>8</th>\n",
       "      <td>Indiana</td>\n",
       "      <td>376900.0</td>\n",
       "      <td>247900.0</td>\n",
       "      <td>380700.0</td>\n",
       "      <td>471100.0</td>\n",
       "      <td>625200.0</td>\n",
       "      <td>643800.0</td>\n",
       "      <td>2745600.0</td>\n",
       "    </tr>\n",
       "    <tr>\n",
       "      <th>9</th>\n",
       "      <td>Iowa</td>\n",
       "      <td>174000.0</td>\n",
       "      <td>118000.0</td>\n",
       "      <td>177700.0</td>\n",
       "      <td>211900.0</td>\n",
       "      <td>287600.0</td>\n",
       "      <td>319200.0</td>\n",
       "      <td>1288500.0</td>\n",
       "    </tr>\n",
       "    <tr>\n",
       "      <th>10</th>\n",
       "      <td>Kansas</td>\n",
       "      <td>172400.0</td>\n",
       "      <td>111600.0</td>\n",
       "      <td>174600.0</td>\n",
       "      <td>199300.0</td>\n",
       "      <td>259800.0</td>\n",
       "      <td>282800.0</td>\n",
       "      <td>1200300.0</td>\n",
       "    </tr>\n",
       "    <tr>\n",
       "      <th>11</th>\n",
       "      <td>Kentucky</td>\n",
       "      <td>240400.0</td>\n",
       "      <td>155400.0</td>\n",
       "      <td>253200.0</td>\n",
       "      <td>320000.0</td>\n",
       "      <td>414500.0</td>\n",
       "      <td>412200.0</td>\n",
       "      <td>1795500.0</td>\n",
       "    </tr>\n",
       "    <tr>\n",
       "      <th>12</th>\n",
       "      <td>Louisiana</td>\n",
       "      <td>266500.0</td>\n",
       "      <td>167600.0</td>\n",
       "      <td>302500.0</td>\n",
       "      <td>331400.0</td>\n",
       "      <td>419700.0</td>\n",
       "      <td>433100.0</td>\n",
       "      <td>1921200.0</td>\n",
       "    </tr>\n",
       "    <tr>\n",
       "      <th>13</th>\n",
       "      <td>Maine</td>\n",
       "      <td>61200.0</td>\n",
       "      <td>41200.0</td>\n",
       "      <td>68400.0</td>\n",
       "      <td>86500.0</td>\n",
       "      <td>137500.0</td>\n",
       "      <td>153600.0</td>\n",
       "      <td>548200.0</td>\n",
       "    </tr>\n",
       "    <tr>\n",
       "      <th>14</th>\n",
       "      <td>Maryland</td>\n",
       "      <td>243600.0</td>\n",
       "      <td>155500.0</td>\n",
       "      <td>286200.0</td>\n",
       "      <td>336500.0</td>\n",
       "      <td>473500.0</td>\n",
       "      <td>456000.0</td>\n",
       "      <td>1951500.0</td>\n",
       "    </tr>\n",
       "  </tbody>\n",
       "</table>\n",
       "</div>"
      ],
      "text/plain": [
       "        State  Age 0 to 17 with Pre-existing Condition  \\\n",
       "0     Alabama                                  39200.0   \n",
       "1     Arizona                                 342000.0   \n",
       "2    Arkansas                                  39900.0   \n",
       "3     Florida                                 571900.0   \n",
       "4     Georgia                                 596700.0   \n",
       "5      Hawaii                                  74600.0   \n",
       "6       Idaho                                 103300.0   \n",
       "7    Illinois                                 707300.0   \n",
       "8     Indiana                                 376900.0   \n",
       "9        Iowa                                 174000.0   \n",
       "10     Kansas                                 172400.0   \n",
       "11   Kentucky                                 240400.0   \n",
       "12  Louisiana                                 266500.0   \n",
       "13      Maine                                  61200.0   \n",
       "14   Maryland                                 243600.0   \n",
       "\n",
       "    Age 18 to 24 with Pre-existing Condition  \\\n",
       "0                                    22300.0   \n",
       "1                                   215400.0   \n",
       "2                                    22300.0   \n",
       "3                                   349600.0   \n",
       "4                                   378700.0   \n",
       "5                                    49500.0   \n",
       "6                                    57700.0   \n",
       "7                                   454000.0   \n",
       "8                                   247900.0   \n",
       "9                                   118000.0   \n",
       "10                                  111600.0   \n",
       "11                                  155400.0   \n",
       "12                                  167600.0   \n",
       "13                                   41200.0   \n",
       "14                                  155500.0   \n",
       "\n",
       "    Age 25 to 34 with Pre-existing Condition  \\\n",
       "0                                    40700.0   \n",
       "1                                   370900.0   \n",
       "2                                    39700.0   \n",
       "3                                   677500.0   \n",
       "4                                   629900.0   \n",
       "5                                    98300.0   \n",
       "6                                    98800.0   \n",
       "7                                   806300.0   \n",
       "8                                   380700.0   \n",
       "9                                   177700.0   \n",
       "10                                  174600.0   \n",
       "11                                  253200.0   \n",
       "12                                  302500.0   \n",
       "13                                   68400.0   \n",
       "14                                  286200.0   \n",
       "\n",
       "    Age 35 to 44 with Pre-existing Condition  \\\n",
       "0                                    49700.0   \n",
       "1                                   437200.0   \n",
       "2                                    51100.0   \n",
       "3                                   840300.0   \n",
       "4                                   800800.0   \n",
       "5                                   103200.0   \n",
       "6                                   117200.0   \n",
       "7                                   967600.0   \n",
       "8                                   471100.0   \n",
       "9                                   211900.0   \n",
       "10                                  199300.0   \n",
       "11                                  320000.0   \n",
       "12                                  331400.0   \n",
       "13                                   86500.0   \n",
       "14                                  336500.0   \n",
       "\n",
       "    Age 45 to 54 with Pre-existing Condition  \\\n",
       "0                                    63500.0   \n",
       "1                                   549100.0   \n",
       "2                                    63500.0   \n",
       "3                                  1133700.0   \n",
       "4                                  1001400.0   \n",
       "5                                   126600.0   \n",
       "6                                   141600.0   \n",
       "7                                  1263700.0   \n",
       "8                                   625200.0   \n",
       "9                                   287600.0   \n",
       "10                                  259800.0   \n",
       "11                                  414500.0   \n",
       "12                                  419700.0   \n",
       "13                                  137500.0   \n",
       "14                                  473500.0   \n",
       "\n",
       "    Age 55 to 64 with Pre-existing Condition  \\\n",
       "0                                    65100.0   \n",
       "1                                   549000.0   \n",
       "2                                    64600.0   \n",
       "3                                  1043800.0   \n",
       "4                                   908800.0   \n",
       "5                                   141000.0   \n",
       "6                                   154600.0   \n",
       "7                                  1272700.0   \n",
       "8                                   643800.0   \n",
       "9                                   319200.0   \n",
       "10                                  282800.0   \n",
       "11                                  412200.0   \n",
       "12                                  433100.0   \n",
       "13                                  153600.0   \n",
       "14                                  456000.0   \n",
       "\n",
       "    Nonelderly with Pre-existing Condition  \n",
       "0                                 280500.0  \n",
       "1                                2463500.0  \n",
       "2                                 281100.0  \n",
       "3                                4616500.0  \n",
       "4                                4316000.0  \n",
       "5                                 593300.0  \n",
       "6                                 673200.0  \n",
       "7                                5471800.0  \n",
       "8                                2745600.0  \n",
       "9                                1288500.0  \n",
       "10                               1200300.0  \n",
       "11                               1795500.0  \n",
       "12                               1921200.0  \n",
       "13                                548200.0  \n",
       "14                               1951500.0  "
      ]
     },
     "execution_count": 10,
     "metadata": {},
     "output_type": "execute_result"
    }
   ],
   "source": [
    "populationByState"
   ]
  },
  {
   "cell_type": "code",
   "execution_count": 11,
   "metadata": {
    "collapsed": false,
    "scrolled": false
   },
   "outputs": [
    {
     "data": {
      "image/png": "[encoded data removed]",
      "text/plain": [
       "<matplotlib.figure.Figure at 0x10f5c36a0>"
      ]
     },
     "metadata": {},
     "output_type": "display_data"
    }
   ],
   "source": [
    "plt.rcParams['figure.figsize']=[20,15]\n",
    "fig,axs = plt.subplots(3,3)\n",
    "\n",
    "ax = sns.barplot(x='Age 0 to 17 with Pre-existing Condition',y='State',data=populationByState.sort_values(by='Age 0 to 17 with Pre-existing Condition',ascending=False),color='red',ax=axs[0,0])\n",
    "ax.set_xlabel('Age 0 to 17 with Pre-existing Condition')\n",
    "\n",
    "ax = sns.barplot(x='Age 18 to 24 with Pre-existing Condition',y='State',data=populationByState.sort_values(by='Age 18 to 24 with Pre-existing Condition',ascending=False),color='red',ax=axs[0,1])\n",
    "ax.set_xlabel('Age 18 to 24 with Pre-existing Condition')\n",
    "\n",
    "ax = sns.barplot(x='Age 25 to 34 with Pre-existing Condition',y='State',data=populationByState.sort_values(by='Age 25 to 34 with Pre-existing Condition',ascending=False),color='red',ax=axs[0,2])\n",
    "ax.set_xlabel('Age 25 to 34 with Pre-existing Condition')\n",
    "\n",
    "ax = sns.barplot(x='Age 35 to 44 with Pre-existing Condition',y='State',data=populationByState.sort_values(by='Age 35 to 44 with Pre-existing Condition',ascending=False),color='red',ax=axs[1,0])\n",
    "ax.set_xlabel('Age 35 to 44 with Pre-existing Condition')\n",
    "\n",
    "ax = sns.barplot(x='Age 45 to 54 with Pre-existing Condition',y='State',data=populationByState.sort_values(by='Age 45 to 54 with Pre-existing Condition',ascending=False),color='red',ax=axs[1,1])\n",
    "ax.set_xlabel('Age 45 to 54 with Pre-existing Condition')\n",
    "\n",
    "ax = sns.barplot(x='Age 55 to 64 with Pre-existing Condition',y='State',data=populationByState.sort_values(by='Age 55 to 64 with Pre-existing Condition',ascending=False),color='red',ax=axs[1,2])\n",
    "ax.set_xlabel('Age 45 to 54 with Pre-existing Condition')\n",
    "\n",
    "\n",
    "ax = sns.barplot(x='Nonelderly with Pre-existing Condition',y='State',data=populationByState.sort_values(by='Nonelderly with Pre-existing Condition',ascending=False),color='red',ax=axs[2,0])\n",
    "ax.set_xlabel('Nonelderly with Pre-existing Condition')\n",
    "\n",
    "ax = sns.barplot(x='Nonelderly with Pre-existing Condition',y='State',data=populationByState.sort_values(by='Nonelderly with Pre-existing Condition',ascending=False),color='red',ax=axs[2,1])\n",
    "\n",
    "fig.delaxes(axs[2,2]) #delets a subplot\n",
    "\n",
    "\n",
    "fig.subplots_adjust(hspace=.3,wspace=.5)\n"
   ]
  },
  {
   "cell_type": "markdown",
   "metadata": {},
   "source": [
    "Overall, Illinois is going to be affected the most by the repeal of health care act across all age groups.\n"
   ]
  },
  {
   "cell_type": "markdown",
   "metadata": {},
   "source": [
    "## *Grouped by state*"
   ]
  },
  {
   "cell_type": "code",
   "execution_count": 12,
   "metadata": {
    "collapsed": false
   },
   "outputs": [
    {
     "data": {
      "text/plain": [
       "<matplotlib.text.Text at 0x112f6ff60>"
      ]
     },
     "execution_count": 12,
     "metadata": {},
     "output_type": "execute_result"
    },
    {
     "data": {
      "image/png": "[encoded data removed]",
      "text/plain": [
       "<matplotlib.figure.Figure at 0x10f5c3470>"
      ]
     },
     "metadata": {},
     "output_type": "display_data"
    }
   ],
   "source": [
    "plt.figure(figsize=(10,10))\n",
    "byState = pd.DataFrame(populationByState.sum(axis=1))\n",
    "byState['State'] = populationByState['State']\n",
    "byState.columns = ['Total','State']\n",
    "\n",
    "ax = sns.barplot('Total','State',data=byState.sort_values(by='Total',ascending=False),palette='Set1')\n",
    "ax.set_xlabel('Number of people in ten millions')"
   ]
  },
  {
   "cell_type": "markdown",
   "metadata": {},
   "source": [
    "# Which population in the U.S is affected the most by this policy?"
   ]
  },
  {
   "cell_type": "code",
   "execution_count": 13,
   "metadata": {
    "collapsed": false
   },
   "outputs": [
    {
     "data": {
      "text/html": [
       "<div>\n",
       "<table border=\"1\" class=\"dataframe\">\n",
       "  <thead>\n",
       "    <tr style=\"text-align: right;\">\n",
       "      <th></th>\n",
       "      <th>population with pre-existing conditions</th>\n",
       "      <th>Total number of people</th>\n",
       "    </tr>\n",
       "  </thead>\n",
       "  <tbody>\n",
       "    <tr>\n",
       "      <th>0</th>\n",
       "      <td>Age 0 to 17 with Pre-existing Condition</td>\n",
       "      <td>4009900.0</td>\n",
       "    </tr>\n",
       "    <tr>\n",
       "      <th>1</th>\n",
       "      <td>Age 18 to 24 with Pre-existing Condition</td>\n",
       "      <td>2546700.0</td>\n",
       "    </tr>\n",
       "    <tr>\n",
       "      <th>2</th>\n",
       "      <td>Age 25 to 34 with Pre-existing Condition</td>\n",
       "      <td>4405400.0</td>\n",
       "    </tr>\n",
       "    <tr>\n",
       "      <th>3</th>\n",
       "      <td>Age 35 to 44 with Pre-existing Condition</td>\n",
       "      <td>5323800.0</td>\n",
       "    </tr>\n",
       "    <tr>\n",
       "      <th>4</th>\n",
       "      <td>Age 45 to 54 with Pre-existing Condition</td>\n",
       "      <td>6960900.0</td>\n",
       "    </tr>\n",
       "    <tr>\n",
       "      <th>5</th>\n",
       "      <td>Age 55 to 64 with Pre-existing Condition</td>\n",
       "      <td>6900300.0</td>\n",
       "    </tr>\n",
       "    <tr>\n",
       "      <th>6</th>\n",
       "      <td>Nonelderly with Pre-existing Condition</td>\n",
       "      <td>30146700.0</td>\n",
       "    </tr>\n",
       "  </tbody>\n",
       "</table>\n",
       "</div>"
      ],
      "text/plain": [
       "    population with pre-existing conditions  Total number of people\n",
       "0   Age 0 to 17 with Pre-existing Condition               4009900.0\n",
       "1  Age 18 to 24 with Pre-existing Condition               2546700.0\n",
       "2  Age 25 to 34 with Pre-existing Condition               4405400.0\n",
       "3  Age 35 to 44 with Pre-existing Condition               5323800.0\n",
       "4  Age 45 to 54 with Pre-existing Condition               6960900.0\n",
       "5  Age 55 to 64 with Pre-existing Condition               6900300.0\n",
       "6    Nonelderly with Pre-existing Condition              30146700.0"
      ]
     },
     "execution_count": 13,
     "metadata": {},
     "output_type": "execute_result"
    }
   ],
   "source": [
    "total = pd.DataFrame(populationByState.drop('State',axis=1).sum(axis=0))\n",
    "total.reset_index(inplace=True)\n",
    "total.columns = ['population with pre-existing conditions','Total number of people']\n",
    "total"
   ]
  },
  {
   "cell_type": "code",
   "execution_count": 14,
   "metadata": {
    "collapsed": false
   },
   "outputs": [
    {
     "data": {
      "text/plain": [
       "<matplotlib.text.Text at 0x113ff6c88>"
      ]
     },
     "execution_count": 14,
     "metadata": {},
     "output_type": "execute_result"
    },
    {
     "data": {
      "image/png": "[encoded data removed]",
      "text/plain": [
       "<matplotlib.figure.Figure at 0x114004160>"
      ]
     },
     "metadata": {},
     "output_type": "display_data"
    }
   ],
   "source": [
    "plt.figure(figsize=(10,10))\n",
    "ax = sns.barplot(x='Total number of people',y='population with pre-existing conditions',data=total.sort_values(by='Total number of people',ascending=False),palette='Set1')\n",
    "ax.set_xlabel('Total number of people in ten millions')\n"
   ]
  },
  {
   "cell_type": "markdown",
   "metadata": {},
   "source": [
    "This shows that the largest population who is likely to be affected by the repeal of the affordable healthcare act is the non-elderly with pre-existing conditions."
   ]
  }
 ],
 "metadata": {
  "anaconda-cloud": {},
  "kernelspec": {
   "display_name": "Python [conda root]",
   "language": "python",
   "name": "conda-root-py"
  },
  "language_info": {
   "codemirror_mode": {
    "name": "ipython",
    "version": 3
   },
   "file_extension": ".py",
   "mimetype": "text/x-python",
   "name": "python",
   "nbconvert_exporter": "python",
   "pygments_lexer": "ipython3",
   "version": "3.5.2"
  }
 },
 "nbformat": 4,
 "nbformat_minor": 1
}
